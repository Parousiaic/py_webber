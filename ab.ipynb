{
 "cells": [
  {
   "cell_type": "code",
   "execution_count": 1,
   "metadata": {
    "collapsed": true
   },
   "outputs": [],
   "source": [
    "import re"
   ]
  },
  {
   "cell_type": "code",
   "execution_count": 14,
   "metadata": {
    "collapsed": false
   },
   "outputs": [
    {
     "data": {
      "text/plain": [
       "\"[\\\\; \\\\, \\\\* \\n \\\\.+\\\\- \\\\( \\\\) - \\\\/ : \\\\? \\\\ — ' ://]\""
      ]
     },
     "execution_count": 14,
     "metadata": {},
     "output_type": "execute_result"
    }
   ],
   "source": [
    "p = '[\\; \\, \\* \\n \\.+\\- \\( \\) - \\/ : \\? \\ — \\' ://]'\n",
    "p"
   ]
  },
  {
   "cell_type": "code",
   "execution_count": 15,
   "metadata": {
    "collapsed": true
   },
   "outputs": [
    {
     "data": {
      "text/plain": [
       "['\\\\;',\n",
       " '\\\\,',\n",
       " '\\\\*',\n",
       " '\\\\n',\n",
       " '\\\\.+',\n",
       " '\\\\-',\n",
       " '\\\\(',\n",
       " '\\\\)',\n",
       " '\\\\-',\n",
       " '\\\\/',\n",
       " '\\\\:',\n",
       " '\\\\?',\n",
       " '\\\\',\n",
       " '\\\\—',\n",
       " \"\\\\'\",\n",
       " '\\\\://']"
      ]
     },
     "execution_count": 15,
     "metadata": {},
     "output_type": "execute_result"
    }
   ],
   "source": [
    "s = [\";\", \",\", \"*\", \"n\", \".+\", \"-\", \"(\", \")\", \"-\", \"/\", \":\", \"?\", \"\", \"—\", \"'\", \"://\"]\n",
    "k = [\"\\{}\".format(each) for each in s]\n",
    "k"
   ]
  },
  {
   "cell_type": "code",
   "execution_count": 25,
   "metadata": {
    "collapsed": false
   },
   "outputs": [
    {
     "data": {
      "text/plain": [
       "\"[\\\\; \\\\, \\\\* \\\\n \\\\.+ \\\\- \\\\( \\\\) \\\\- \\\\/ \\\\: \\\\? \\\\ \\\\— \\\\' \\\\://]\""
      ]
     },
     "execution_count": 25,
     "metadata": {},
     "output_type": "execute_result"
    }
   ],
   "source": [
    "def make_split_string(list_of_strings):\n",
    "    str_format = [\"\\{}\".format(each) for each in list_of_strings]\n",
    "    return \"[{}]\".format(\" \".join(str_format))\n",
    "j = make_split_string(s)\n",
    "j"
   ]
  },
  {
   "cell_type": "code",
   "execution_count": null,
   "metadata": {
    "collapsed": true
   },
   "outputs": [],
   "source": []
  }
 ],
 "metadata": {
  "kernelspec": {
   "display_name": "Environment (__pw)",
   "language": "",
   "name": "__pw"
  },
  "language_info": {
   "codemirror_mode": {
    "name": "ipython",
    "version": 3
   },
   "file_extension": ".py",
   "mimetype": "text/x-python",
   "name": "python",
   "nbconvert_exporter": "python",
   "pygments_lexer": "ipython3",
   "version": "3.6.0"
  }
 },
 "nbformat": 4,
 "nbformat_minor": 0
}
