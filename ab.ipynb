{
 "cells": [
  {
   "cell_type": "code",
   "execution_count": 1,
   "metadata": {},
   "outputs": [],
   "source": [
    "from pywebber import Ripper\n",
    "\n",
    "p = 'https://stackoverflow.com/questions/702337/how-to-make-django-slugify-work-properly-with-unicode-strings?noredirect=1&lq=1'\n",
    "s = 'stackoverflow.com/questions/702337/how-to-make-django-slugify-work-properly-with-unicode-strings?noredirect=1&lq=1'\n",
    "t = 'https://stackoverflow.com/questions/702337/how-to-make-django-slugify-work-properly-with-unicode-strings?noredirect=1&lq=1 '\n"
   ]
  },
  {
   "cell_type": "code",
   "execution_count": 2,
   "metadata": {},
   "outputs": [],
   "source": [
    "k = Ripper(p)"
   ]
  },
  {
   "cell_type": "code",
   "execution_count": 3,
   "metadata": {},
   "outputs": [
    {
     "data": {
      "text/plain": [
       "'https://stackoverflow.com/questions/702337/how-to-make-django-slugify-work-properly-with-unicode-strings?noredirect=1&lq=1'"
      ]
     },
     "execution_count": 3,
     "metadata": {},
     "output_type": "execute_result"
    }
   ],
   "source": [
    "k.url"
   ]
  },
  {
   "cell_type": "code",
   "execution_count": 4,
   "metadata": {},
   "outputs": [
    {
     "data": {
      "text/plain": [
       "'[! \" # $ % & \\' ( ) * + , - . / : ; < = > ? @ [ \\\\ ] ^ _ ` { | } ~ n   ://]'"
      ]
     },
     "execution_count": 4,
     "metadata": {},
     "output_type": "execute_result"
    }
   ],
   "source": [
    "k.split_string"
   ]
  },
  {
   "cell_type": "code",
   "execution_count": 5,
   "metadata": {},
   "outputs": [
    {
     "data": {
      "text/plain": [
       "['', '#', '\\n', 'the', 'to', 'but', 'and']"
      ]
     },
     "execution_count": 5,
     "metadata": {},
     "output_type": "execute_result"
    }
   ],
   "source": [
    "k.stop_words"
   ]
  },
  {
   "cell_type": "code",
   "execution_count": 6,
   "metadata": {},
   "outputs": [
    {
     "data": {
      "text/plain": [
       "True"
      ]
     },
     "execution_count": 6,
     "metadata": {},
     "output_type": "execute_result"
    }
   ],
   "source": [
    "k.refresh"
   ]
  },
  {
   "cell_type": "code",
   "execution_count": 7,
   "metadata": {},
   "outputs": [
    {
     "data": {
      "text/plain": [
       "'C:\\\\Users\\\\Chidimmo\\\\Desktop\\\\stackoverflow_com\\\\https___stackoverflow_com_questions_702337_how-to-make-django-slugify-work-properly-with-unicode-strings_noredirect_1_lq_1'"
      ]
     },
     "execution_count": 7,
     "metadata": {},
     "output_type": "execute_result"
    }
   ],
   "source": [
    "k.save_path"
   ]
  },
  {
   "cell_type": "code",
   "execution_count": 8,
   "metadata": {},
   "outputs": [
    {
     "data": {
      "text/plain": [
       "'Rip: https://stackoverflow.com/questions/702337/how-to-make-django-slugify-work-properly-with-unicode-strings?noredirect=1&lq=1'"
      ]
     },
     "execution_count": 8,
     "metadata": {},
     "output_type": "execute_result"
    }
   ],
   "source": [
    "k.__str__()"
   ]
  },
  {
   "cell_type": "code",
   "execution_count": 9,
   "metadata": {},
   "outputs": [
    {
     "data": {
      "text/plain": [
       "{'http://cnprog.com',\n",
       " 'http://davedash.com/2011/03/24/how-we-slug-at-mozilla/',\n",
       " 'http://docs.python.org/library/re.html',\n",
       " 'http://pypi.python.org/pypi/Unidecode',\n",
       " 'http://trac.django-fr.org/browser/site/trunk/djangofr/links/slughifi.py',\n",
       " 'https://academia.stackexchange.com',\n",
       " 'https://android.stackexchange.com',\n",
       " 'https://anime.stackexchange.com',\n",
       " 'https://api.stackexchange.com',\n",
       " 'https://apple.stackexchange.com',\n",
       " 'https://arduino.stackexchange.com',\n",
       " 'https://area51.stackexchange.com',\n",
       " 'https://askubuntu.com',\n",
       " 'https://askubuntu.com/questions/1045243/ruby-gem-installation-failed',\n",
       " 'https://bicycles.stackexchange.com',\n",
       " 'https://biology.stackexchange.com',\n",
       " 'https://bitcoin.stackexchange.com',\n",
       " 'https://blender.stackexchange.com',\n",
       " 'https://chat.stackoverflow.com',\n",
       " 'https://chemistry.stackexchange.com',\n",
       " 'https://christianity.stackexchange.com',\n",
       " 'https://codegolf.stackexchange.com',\n",
       " 'https://codegolf.stackexchange.com/questions/166415/find-the-10-adic-cube-root-of-3',\n",
       " 'https://codereview.stackexchange.com',\n",
       " 'https://codereview.stackexchange.com/questions/196104/removing-neighbors-in-a-point-cloud',\n",
       " 'https://cooking.stackexchange.com',\n",
       " 'https://creativecommons.org/licenses/by-sa/3.0/',\n",
       " 'https://crypto.stackexchange.com',\n",
       " 'https://cs.stackexchange.com',\n",
       " 'https://cstheory.stackexchange.com',\n",
       " 'https://data.stackexchange.com',\n",
       " 'https://datascience.stackexchange.com',\n",
       " 'https://dba.stackexchange.com',\n",
       " 'https://diy.stackexchange.com',\n",
       " 'https://drupal.stackexchange.com',\n",
       " 'https://dsp.stackexchange.com',\n",
       " 'https://electronics.stackexchange.com',\n",
       " 'https://electronics.stackexchange.com/questions/378605/why-am-i-not-dead-after-repeatedly-touching-a-high-voltage-source',\n",
       " 'https://electronics.stackexchange.com/questions/378762/would-this-component-require-a-heat-sink',\n",
       " 'https://ell.stackexchange.com',\n",
       " 'https://ell.stackexchange.com/questions/168864/one-word-two-meanings-bad-and-good-how-to-guess-the-correct-one-then',\n",
       " 'https://ell.stackexchange.com/questions/169003/if-something-seems-too-good-to-be-true-it-probably-is-not',\n",
       " 'https://emacs.stackexchange.com',\n",
       " 'https://english.stackexchange.com',\n",
       " 'https://english.stackexchange.com/questions/449529/is-there-an-idiom-for-your-decision-can-change-at-the-last-moment',\n",
       " 'https://es.stackoverflow.com',\n",
       " 'https://ethereum.stackexchange.com',\n",
       " 'https://expressionengine.stackexchange.com',\n",
       " 'https://gamedev.stackexchange.com',\n",
       " 'https://gaming.stackexchange.com',\n",
       " 'https://gis.stackexchange.com',\n",
       " 'https://github.com/mozilla/unicode-slugify',\n",
       " 'https://github.com/un33k/django-uuslug',\n",
       " 'https://graphicdesign.stackexchange.com',\n",
       " 'https://history.stackexchange.com/questions/46455/why-didnt-wehrmacht-soldiers-refuse-to-kill-civilians',\n",
       " 'https://japanese.stackexchange.com',\n",
       " 'https://judaism.stackexchange.com',\n",
       " 'https://law.stackexchange.com',\n",
       " 'https://linkedin.com/company/stack-overflow',\n",
       " 'https://magento.stackexchange.com',\n",
       " 'https://math.stackexchange.com',\n",
       " 'https://math.stackexchange.com/questions/2813810/where-did-i-make-a-mistake-in-my-simplification-of-the-algebraic-expression',\n",
       " 'https://mathematica.stackexchange.com',\n",
       " 'https://mathoverflow.net',\n",
       " 'https://mechanics.stackexchange.com',\n",
       " 'https://meta.stackexchange.com',\n",
       " 'https://meta.stackoverflow.com',\n",
       " 'https://money.stackexchange.com',\n",
       " 'https://money.stackexchange.com/questions/96092/what-to-do-if-i-cant-trust-myself-with-monthly-wages',\n",
       " 'https://movies.stackexchange.com',\n",
       " 'https://music.stackexchange.com',\n",
       " 'https://networkengineering.stackexchange.com',\n",
       " 'https://philosophy.stackexchange.com',\n",
       " 'https://photo.stackexchange.com',\n",
       " 'https://physics.stackexchange.com',\n",
       " 'https://politics.stackexchange.com/questions/31347/what-is-the-logic-behind-forbidding-lgbt-conversion-therapies',\n",
       " 'https://pt.stackoverflow.com',\n",
       " 'https://puzzling.stackexchange.com',\n",
       " 'https://raspberrypi.stackexchange.com',\n",
       " 'https://raspberrypi.stackexchange.com/questions/84810/how-to-identify-a-pi',\n",
       " 'https://rpg.stackexchange.com',\n",
       " 'https://ru.stackoverflow.com',\n",
       " 'https://salesforce.stackexchange.com',\n",
       " 'https://salesforce.stackexchange.com/questions/221054/system-triggeroperation-enum',\n",
       " 'https://scifi.stackexchange.com',\n",
       " 'https://security.stackexchange.com',\n",
       " 'https://security.stackexchange.com/questions/187160/good-analogy-needed-sec-issues-due-to-different-coders-implementing-the-same-fe',\n",
       " 'https://serverfault.com',\n",
       " 'https://sharepoint.stackexchange.com',\n",
       " 'https://skeptics.stackexchange.com',\n",
       " 'https://skeptics.stackexchange.com/questions/41434/can-genesyss-solar-amplifier-generate-40kw-of-power-from-a-200w-solar-panel',\n",
       " 'https://softwareengineering.stackexchange.com',\n",
       " 'https://softwareengineering.stackexchange.com/questions/372348/how-to-know-when-to-use-dependency-injection',\n",
       " 'https://softwarerecs.stackexchange.com',\n",
       " 'https://stackapps.com',\n",
       " 'https://stackexchange.com',\n",
       " 'https://stackexchange.com/questions?tab=hot',\n",
       " 'https://stackexchange.com/sites',\n",
       " 'https://stackexchange.com/users/?tab=inbox',\n",
       " 'https://stackexchange.com/users/?tab=reputation',\n",
       " 'https://stackoverflow.blog',\n",
       " 'https://stackoverflow.blog/2009/06/25/attribution-required/',\n",
       " 'https://stackoverflow.blog?blb=1',\n",
       " 'https://stackoverflow.com',\n",
       " 'https://stackoverflow.com/company/about',\n",
       " 'https://stackoverflow.com/company/contact',\n",
       " 'https://stackoverflow.com/company/press',\n",
       " 'https://stackoverflow.com/company/work-here',\n",
       " 'https://stackoverflow.com/enterprise',\n",
       " 'https://stackoverflow.com/help',\n",
       " 'https://stackoverflow.com/jobs',\n",
       " 'https://stackoverflow.com/jobs/directory/developer-jobs',\n",
       " 'https://stackoverflow.com/jobs/salary',\n",
       " 'https://stackoverflow.com/legal',\n",
       " 'https://stackoverflow.com/legal/cookie-policy',\n",
       " 'https://stackoverflow.com/legal/privacy-policy',\n",
       " 'https://stackoverflow.com/legal/terms-of-service/public',\n",
       " 'https://stackoverflow.com/questions/702337/how-to-make-django-slugify-work-properly-with-unicode-strings?noredirect=1&lq=1/a/36175658',\n",
       " 'https://stackoverflow.com/questions/702337/how-to-make-django-slugify-work-properly-with-unicode-strings?noredirect=1&lq=1/a/4019144',\n",
       " 'https://stackoverflow.com/questions/702337/how-to-make-django-slugify-work-properly-with-unicode-strings?noredirect=1&lq=1/a/4036665',\n",
       " 'https://stackoverflow.com/questions/702337/how-to-make-django-slugify-work-properly-with-unicode-strings?noredirect=1&lq=1/a/4616724',\n",
       " 'https://stackoverflow.com/questions/702337/how-to-make-django-slugify-work-properly-with-unicode-strings?noredirect=1&lq=1/a/6191847',\n",
       " 'https://stackoverflow.com/questions/702337/how-to-make-django-slugify-work-properly-with-unicode-strings?noredirect=1&lq=1/a/702445',\n",
       " 'https://stackoverflow.com/questions/702337/how-to-make-django-slugify-work-properly-with-unicode-strings?noredirect=1&lq=1/a/7041953',\n",
       " 'https://stackoverflow.com/questions/702337/how-to-make-django-slugify-work-properly-with-unicode-strings?noredirect=1&lq=1/feeds/question/702337',\n",
       " 'https://stackoverflow.com/questions/702337/how-to-make-django-slugify-work-properly-with-unicode-strings?noredirect=1&lq=1/help',\n",
       " 'https://stackoverflow.com/questions/702337/how-to-make-django-slugify-work-properly-with-unicode-strings?noredirect=1&lq=1/jobs?med=site-ui&ref=jobs-tab',\n",
       " 'https://stackoverflow.com/questions/702337/how-to-make-django-slugify-work-properly-with-unicode-strings?noredirect=1&lq=1/posts/36175658/edit',\n",
       " 'https://stackoverflow.com/questions/702337/how-to-make-django-slugify-work-properly-with-unicode-strings?noredirect=1&lq=1/posts/36175658/revisions',\n",
       " 'https://stackoverflow.com/questions/702337/how-to-make-django-slugify-work-properly-with-unicode-strings?noredirect=1&lq=1/posts/4019144/edit',\n",
       " 'https://stackoverflow.com/questions/702337/how-to-make-django-slugify-work-properly-with-unicode-strings?noredirect=1&lq=1/posts/4036665/edit',\n",
       " 'https://stackoverflow.com/questions/702337/how-to-make-django-slugify-work-properly-with-unicode-strings?noredirect=1&lq=1/posts/4616724/edit',\n",
       " 'https://stackoverflow.com/questions/702337/how-to-make-django-slugify-work-properly-with-unicode-strings?noredirect=1&lq=1/posts/6191847/edit',\n",
       " 'https://stackoverflow.com/questions/702337/how-to-make-django-slugify-work-properly-with-unicode-strings?noredirect=1&lq=1/posts/6191847/revisions',\n",
       " 'https://stackoverflow.com/questions/702337/how-to-make-django-slugify-work-properly-with-unicode-strings?noredirect=1&lq=1/posts/702337/edit',\n",
       " 'https://stackoverflow.com/questions/702337/how-to-make-django-slugify-work-properly-with-unicode-strings?noredirect=1&lq=1/posts/702337/revisions',\n",
       " 'https://stackoverflow.com/questions/702337/how-to-make-django-slugify-work-properly-with-unicode-strings?noredirect=1&lq=1/posts/702445/edit',\n",
       " 'https://stackoverflow.com/questions/702337/how-to-make-django-slugify-work-properly-with-unicode-strings?noredirect=1&lq=1/posts/7041953/edit',\n",
       " 'https://stackoverflow.com/questions/702337/how-to-make-django-slugify-work-properly-with-unicode-strings?noredirect=1&lq=1/q/1118183',\n",
       " 'https://stackoverflow.com/questions/702337/how-to-make-django-slugify-work-properly-with-unicode-strings?noredirect=1&lq=1/q/11455812',\n",
       " 'https://stackoverflow.com/questions/702337/how-to-make-django-slugify-work-properly-with-unicode-strings?noredirect=1&lq=1/q/1207457',\n",
       " 'https://stackoverflow.com/questions/702337/how-to-make-django-slugify-work-properly-with-unicode-strings?noredirect=1&lq=1/q/1605041',\n",
       " 'https://stackoverflow.com/questions/702337/how-to-make-django-slugify-work-properly-with-unicode-strings?noredirect=1&lq=1/q/26442152',\n",
       " 'https://stackoverflow.com/questions/702337/how-to-make-django-slugify-work-properly-with-unicode-strings?noredirect=1&lq=1/q/32026650',\n",
       " 'https://stackoverflow.com/questions/702337/how-to-make-django-slugify-work-properly-with-unicode-strings?noredirect=1&lq=1/q/354038',\n",
       " 'https://stackoverflow.com/questions/702337/how-to-make-django-slugify-work-properly-with-unicode-strings?noredirect=1&lq=1/q/36175385',\n",
       " 'https://stackoverflow.com/questions/702337/how-to-make-django-slugify-work-properly-with-unicode-strings?noredirect=1&lq=1/q/379906',\n",
       " 'https://stackoverflow.com/questions/702337/how-to-make-django-slugify-work-properly-with-unicode-strings?noredirect=1&lq=1/q/4581025',\n",
       " 'https://stackoverflow.com/questions/702337/how-to-make-django-slugify-work-properly-with-unicode-strings?noredirect=1&lq=1/q/50278446',\n",
       " 'https://stackoverflow.com/questions/702337/how-to-make-django-slugify-work-properly-with-unicode-strings?noredirect=1&lq=1/q/510348',\n",
       " 'https://stackoverflow.com/questions/702337/how-to-make-django-slugify-work-properly-with-unicode-strings?noredirect=1&lq=1/q/6468397',\n",
       " 'https://stackoverflow.com/questions/702337/how-to-make-django-slugify-work-properly-with-unicode-strings?noredirect=1&lq=1/q/6579844',\n",
       " 'https://stackoverflow.com/questions/702337/how-to-make-django-slugify-work-properly-with-unicode-strings?noredirect=1&lq=1/q/6797984',\n",
       " 'https://stackoverflow.com/questions/702337/how-to-make-django-slugify-work-properly-with-unicode-strings?noredirect=1&lq=1/q/702337',\n",
       " 'https://stackoverflow.com/questions/702337/how-to-make-django-slugify-work-properly-with-unicode-strings?noredirect=1&lq=1/q/730764',\n",
       " 'https://stackoverflow.com/questions/702337/how-to-make-django-slugify-work-properly-with-unicode-strings?noredirect=1&lq=1/q/739654',\n",
       " 'https://stackoverflow.com/questions/702337/how-to-make-django-slugify-work-properly-with-unicode-strings?noredirect=1&lq=1/q/9886078',\n",
       " 'https://stackoverflow.com/questions/702337/how-to-make-django-slugify-work-properly-with-unicode-strings?noredirect=1&lq=1/questions',\n",
       " 'https://stackoverflow.com/questions/702337/how-to-make-django-slugify-work-properly-with-unicode-strings?noredirect=1&lq=1/questions/1118183/how-to-debug-in-django-the-good-way',\n",
       " 'https://stackoverflow.com/questions/702337/how-to-make-django-slugify-work-properly-with-unicode-strings?noredirect=1&lq=1/questions/11455812/use-slugify-in-template?noredirect=1',\n",
       " 'https://stackoverflow.com/questions/702337/how-to-make-django-slugify-work-properly-with-unicode-strings?noredirect=1&lq=1/questions/1207457/convert-a-unicode-string-to-a-string-in-python-containing-extra-symbols',\n",
       " 'https://stackoverflow.com/questions/702337/how-to-make-django-slugify-work-properly-with-unicode-strings?noredirect=1&lq=1/questions/1605041/django-slug-in-vietnamese?noredirect=1',\n",
       " 'https://stackoverflow.com/questions/702337/how-to-make-django-slugify-work-properly-with-unicode-strings?noredirect=1&lq=1/questions/26442152/how-to-slugify-while-still-maintaining-utf-8-letters?noredirect=1',\n",
       " 'https://stackoverflow.com/questions/702337/how-to-make-django-slugify-work-properly-with-unicode-strings?noredirect=1&lq=1/questions/32026650/slugify-and-an-issue-with-persian-language?noredirect=1',\n",
       " 'https://stackoverflow.com/questions/702337/how-to-make-django-slugify-work-properly-with-unicode-strings?noredirect=1&lq=1/questions/354038/how-do-i-check-if-a-string-is-a-number-float',\n",
       " 'https://stackoverflow.com/questions/702337/how-to-make-django-slugify-work-properly-with-unicode-strings?noredirect=1&lq=1/questions/36175385/django-slugify-russian-string?noredirect=1',\n",
       " 'https://stackoverflow.com/questions/702337/how-to-make-django-slugify-work-properly-with-unicode-strings?noredirect=1&lq=1/questions/379906/how-do-i-parse-a-string-to-a-float-or-int-in-python',\n",
       " 'https://stackoverflow.com/questions/702337/how-to-make-django-slugify-work-properly-with-unicode-strings?noredirect=1&lq=1/questions/4581025/best-way-to-create-seo-friendly-uri-string?noredirect=1',\n",
       " 'https://stackoverflow.com/questions/702337/how-to-make-django-slugify-work-properly-with-unicode-strings?noredirect=1&lq=1/questions/50278446/django-slug-without-unicode?noredirect=1',\n",
       " 'https://stackoverflow.com/questions/702337/how-to-make-django-slugify-work-properly-with-unicode-strings?noredirect=1&lq=1/questions/510348/how-can-i-make-a-time-delay-in-python',\n",
       " 'https://stackoverflow.com/questions/702337/how-to-make-django-slugify-work-properly-with-unicode-strings?noredirect=1&lq=1/questions/6468397/how-to-check-django-version',\n",
       " 'https://stackoverflow.com/questions/702337/how-to-make-django-slugify-work-properly-with-unicode-strings?noredirect=1&lq=1/questions/6579844/how-does-zalgo-text-work',\n",
       " 'https://stackoverflow.com/questions/702337/how-to-make-django-slugify-work-properly-with-unicode-strings?noredirect=1&lq=1/questions/6797984/how-to-convert-string-to-lowercase-in-python',\n",
       " 'https://stackoverflow.com/questions/702337/how-to-make-django-slugify-work-properly-with-unicode-strings?noredirect=1&lq=1/questions/702337/how-to-make-django-slugify-work-properly-with-unicode-strings',\n",
       " 'https://stackoverflow.com/questions/702337/how-to-make-django-slugify-work-properly-with-unicode-strings?noredirect=1&lq=1/questions/730764/how-to-properly-ignore-exceptions',\n",
       " 'https://stackoverflow.com/questions/702337/how-to-make-django-slugify-work-properly-with-unicode-strings?noredirect=1&lq=1/questions/739654/how-to-make-a-chain-of-function-decorators',\n",
       " 'https://stackoverflow.com/questions/702337/how-to-make-django-slugify-work-properly-with-unicode-strings?noredirect=1&lq=1/questions/9886078/how-to-make-django-create-slug-from-unicode-characters?noredirect=1',\n",
       " 'https://stackoverflow.com/questions/702337/how-to-make-django-slugify-work-properly-with-unicode-strings?noredirect=1&lq=1/questions/ask',\n",
       " 'https://stackoverflow.com/questions/702337/how-to-make-django-slugify-work-properly-with-unicode-strings?noredirect=1&lq=1/questions/tagged/django',\n",
       " 'https://stackoverflow.com/questions/702337/how-to-make-django-slugify-work-properly-with-unicode-strings?noredirect=1&lq=1/questions/tagged/django-templates',\n",
       " 'https://stackoverflow.com/questions/702337/how-to-make-django-slugify-work-properly-with-unicode-strings?noredirect=1&lq=1/questions/tagged/python',\n",
       " 'https://stackoverflow.com/questions/702337/how-to-make-django-slugify-work-properly-with-unicode-strings?noredirect=1&lq=1/questions/tagged/slug',\n",
       " 'https://stackoverflow.com/questions/702337/how-to-make-django-slugify-work-properly-with-unicode-strings?noredirect=1&lq=1/questions/tagged/unicode',\n",
       " 'https://stackoverflow.com/questions/702337/how-to-make-django-slugify-work-properly-with-unicode-strings?noredirect=1&lq=1/tags',\n",
       " 'https://stackoverflow.com/questions/702337/how-to-make-django-slugify-work-properly-with-unicode-strings?noredirect=1&lq=1/tour',\n",
       " 'https://stackoverflow.com/questions/702337/how-to-make-django-slugify-work-properly-with-unicode-strings?noredirect=1&lq=1/users',\n",
       " 'https://stackoverflow.com/questions/702337/how-to-make-django-slugify-work-properly-with-unicode-strings?noredirect=1&lq=1/users/103734/un33k',\n",
       " 'https://stackoverflow.com/questions/702337/how-to-make-django-slugify-work-properly-with-unicode-strings?noredirect=1&lq=1/users/110274/evgeny',\n",
       " 'https://stackoverflow.com/questions/702337/how-to-make-django-slugify-work-properly-with-unicode-strings?noredirect=1&lq=1/users/145190/meder-omuraliev',\n",
       " 'https://stackoverflow.com/questions/702337/how-to-make-django-slugify-work-properly-with-unicode-strings?noredirect=1&lq=1/users/1529346/antoine-pinsard',\n",
       " 'https://stackoverflow.com/questions/702337/how-to-make-django-slugify-work-properly-with-unicode-strings?noredirect=1&lq=1/users/1897/imran',\n",
       " 'https://stackoverflow.com/questions/702337/how-to-make-django-slugify-work-properly-with-unicode-strings?noredirect=1&lq=1/users/206720/ondrej-slint%c3%a1k',\n",
       " 'https://stackoverflow.com/questions/702337/how-to-make-django-slugify-work-properly-with-unicode-strings?noredirect=1&lq=1/users/2142577/laike9m',\n",
       " 'https://stackoverflow.com/questions/702337/how-to-make-django-slugify-work-properly-with-unicode-strings?noredirect=1&lq=1/users/219519/jnns',\n",
       " 'https://stackoverflow.com/questions/702337/how-to-make-django-slugify-work-properly-with-unicode-strings?noredirect=1&lq=1/users/231664/david-%e5%a4%a9%e5%ae%87-wong',\n",
       " 'https://stackoverflow.com/questions/702337/how-to-make-django-slugify-work-properly-with-unicode-strings?noredirect=1&lq=1/users/277504/arthur-hebert',\n",
       " 'https://stackoverflow.com/questions/702337/how-to-make-django-slugify-work-properly-with-unicode-strings?noredirect=1&lq=1/users/307687/open-seo',\n",
       " 'https://stackoverflow.com/questions/702337/how-to-make-django-slugify-work-properly-with-unicode-strings?noredirect=1&lq=1/users/327976/mhl666',\n",
       " 'https://stackoverflow.com/questions/702337/how-to-make-django-slugify-work-properly-with-unicode-strings?noredirect=1&lq=1/users/44041/filip-dupanovi%c4%87',\n",
       " 'https://stackoverflow.com/questions/702337/how-to-make-django-slugify-work-properly-with-unicode-strings?noredirect=1&lq=1/users/546822/serjik',\n",
       " 'https://stackoverflow.com/questions/702337/how-to-make-django-slugify-work-properly-with-unicode-strings?noredirect=1&lq=1/users/636136/alireza-savand',\n",
       " 'https://stackoverflow.com/questions/702337/how-to-make-django-slugify-work-properly-with-unicode-strings?noredirect=1&lq=1/users/72247/jarret-hardie',\n",
       " 'https://stackoverflow.com/questions/702337/how-to-make-django-slugify-work-properly-with-unicode-strings?noredirect=1&lq=1/users/9951/e-satis',\n",
       " 'https://stackoverflow.com/questions/702337/how-to-make-django-slugify-work-properly-with-unicode-strings?noredirect=1&lq=1/users/login?ssrc=question_page&returnurl=https%3a%2f%2fstackoverflow.com%2fquestions%2f702337%2fhow-to-make-django-slugify-work-properly-with-unicode-strings%23new-answer',\n",
       " 'https://stackoverflow.com/questions/702337/how-to-make-django-slugify-work-properly-with-unicode-strings?noredirect=1&lq=1?lastactivity',\n",
       " 'https://stackoverflow.com/teams',\n",
       " 'https://stackoverflow.com/users/login?ssrc=head&returnurl=https%3a%2f%2fstackoverflow.com%2fquestions%2f702337%2fhow-to-make-django-slugify-work-properly-with-unicode-strings%3fnoredirect%3d1%26lq%3d1',\n",
       " 'https://stackoverflow.com/users/login?ssrc=site_switcher&returnurl=https%3a%2f%2fstackoverflow.com%2fquestions%2f702337%2fhow-to-make-django-slugify-work-properly-with-unicode-strings%3fnoredirect%3d1%26lq%3d1',\n",
       " 'https://stackoverflow.com/users/signup?ssrc=head&returnurl=%2fusers%2fstory%2fcurrent',\n",
       " 'https://stackoverflow.com/users/signup?ssrc=site_switcher&returnurl=%2fusers%2fstory%2fcurrent',\n",
       " 'https://stats.stackexchange.com',\n",
       " 'https://stats.stackexchange.com/questions/349850/how-to-plot-trends-properly',\n",
       " 'https://stats.stackexchange.com/questions/350494/how-much-lung-cancer-is-really-caused-by-smoking',\n",
       " 'https://superuser.com',\n",
       " 'https://superuser.com/questions/1330023/different-ip-address',\n",
       " 'https://tex.stackexchange.com',\n",
       " 'https://travel.stackexchange.com',\n",
       " 'https://travel.stackexchange.com/questions/116165/how-can-i-convince-airport-screeners-to-stop-asking-why-i-prefer-pat-downs',\n",
       " 'https://twitter.com/stackoverflow',\n",
       " 'https://unix.stackexchange.com',\n",
       " 'https://ux.stackexchange.com',\n",
       " 'https://webapps.stackexchange.com',\n",
       " 'https://webmasters.stackexchange.com',\n",
       " 'https://wordpress.stackexchange.com',\n",
       " 'https://worldbuilding.stackexchange.com',\n",
       " 'https://worldbuilding.stackexchange.com/questions/114246/plausible-cause-of-a-family-only-giving-birth-to-females',\n",
       " 'https://worldbuilding.stackexchange.com/questions/114363/why-buy-tech-from-the-future',\n",
       " 'https://writing.stackexchange.com/questions/36806/should-i-focus-on-ideas-which-the-market-enjoys-or-ideas-which-i-enjoy',\n",
       " 'https://www.facebook.com/officialstackoverflow/',\n",
       " 'https://www.stackoverflowbusiness.com',\n",
       " 'https://www.stackoverflowbusiness.com/?ref=topbar_help',\n",
       " 'https://www.stackoverflowbusiness.com/advertise',\n",
       " 'https://www.stackoverflowbusiness.com/talent'}"
      ]
     },
     "execution_count": 9,
     "metadata": {},
     "output_type": "execute_result"
    }
   ],
   "source": [
    "k.links()"
   ]
  },
  {
   "cell_type": "code",
   "execution_count": null,
   "metadata": {},
   "outputs": [],
   "source": []
  }
 ],
 "metadata": {
  "kernelspec": {
   "display_name": "Python 3",
   "language": "python",
   "name": "python3"
  },
  "language_info": {
   "codemirror_mode": {
    "name": "ipython",
    "version": 3
   },
   "file_extension": ".py",
   "mimetype": "text/x-python",
   "name": "python",
   "nbconvert_exporter": "python",
   "pygments_lexer": "ipython3",
   "version": "3.6.4"
  }
 },
 "nbformat": 4,
 "nbformat_minor": 1
}
